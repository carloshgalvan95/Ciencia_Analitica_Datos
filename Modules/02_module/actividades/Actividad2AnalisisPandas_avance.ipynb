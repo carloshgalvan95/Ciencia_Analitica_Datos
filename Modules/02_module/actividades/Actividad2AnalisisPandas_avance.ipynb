{
  "cells": [
    {
      "cell_type": "markdown",
      "metadata": {
        "id": "SML-04QQLd9l"
      },
      "source": [
        "**MAESTRÍA EN INTELIGENCIA ARTIFICIAL APLICADA**\n",
        "\n",
        "**Curso: TC5053 - Ciencia y analítica de datos**\n",
        "\n",
        "Tecnológico de Monterrey\n",
        "\n",
        "Prof Grettel Barceló Alonso\n",
        "\n",
        "**Semana 2**\n",
        "Pandas para el análisis de datos en Python\n",
        "\n",
        "---"
      ]
    },
    {
      "cell_type": "markdown",
      "metadata": {
        "id": "6q35__bSBB3G"
      },
      "source": [
        "*   NOMBRE: Carlos Humberto Galván Perales\n",
        "*   MATRÍCULA: A01797969\n"
      ]
    },
    {
      "cell_type": "markdown",
      "metadata": {
        "id": "AepY3wwtDXkc"
      },
      "source": [
        "---"
      ]
    },
    {
      "cell_type": "markdown",
      "metadata": {
        "id": "BumCtObqBqGr"
      },
      "source": [
        "En esta actividad trabajarás con el archivo `cleaned_weather.csv`, un extracto del conjunto de datos meteorológicos a lo largo de todo el año 2020 en una estación del Instituto *Max Planck* (Alemania) disponible en Kaggle.\n",
        "\n",
        "Los datos meteorológicos fueron registrados cada 10 minutos e incluyen los siguientes indicadores:\n",
        "\n",
        "*   `timestamp`: Fecha y hora de la observación.\n",
        "*   `p`: Presión atmosférica en milibares (mbar)\n",
        "*   `T`: Temperatura del aire en grados Celsius (°C)\n",
        "*   `Tpot`: Temperatura potencial en Kelvin (K)\n",
        "*   `rh`: Humedad relativa en porcentaje (%)\n",
        "*   `VPact`: Presión real de vapor en milibares (mbar)\n",
        "*   `sh`: Humedad específica en gramos por kilogramo (g/kg)\n",
        "*   `H2OC`: Concentración de vapor de agua en milimoles por mol (mmol/mol) de aire seco\n",
        "*   `rho`: Densidad del aire en gramos por metro cúbico (g/m³)\n",
        "*   `wv`: Velocidad del viento en metros por segundo (m/s)\n",
        "*   `wd`: Dirección del viento en grados (°)\n",
        "*   `rain`: Precipitación total en milímetros (mm)\n",
        "*   `raining`: Duración de la lluvia en segundos (s)\n",
        "\n",
        "**NOTA IMPORTANTE:** Asegúrate de responder *explícitamente* todos los cuestionamientos.\n"
      ]
    },
    {
      "cell_type": "code",
      "execution_count": 1,
      "metadata": {
        "id": "dufK-8ZcUsgW"
      },
      "outputs": [],
      "source": [
        "# Importa las librerías necesarias\n",
        "import pandas as pd"
      ]
    },
    {
      "cell_type": "markdown",
      "metadata": {
        "id": "mqtTwAL3Mr44"
      },
      "source": [
        "1.\tDescarga el archivo: `cleaned_weather.csv` y guarda, en un dataframe (`weather_df`), todos sus registros.\n",
        "- Determina la dimensionalidad del dataframe y obtén los identificadores de columnas.\n",
        "- Renombra las columnas para facilitar la interpretación de los indicadores en los ejercicios siguientes:\n",
        "  - `medicion, presion_atmosferica, temperatura_celsius, temperatura_celsius, temperatura_kelvin, humedad_relativa, presion_vapor, humedad_especifica, concentracion_vapor, densidad_aire, velocidad_viento, direccion_viento, precipitacion_total, duracion_lluvia`\n",
        "- Muestra los primeros y los últimos 5 registros.\n",
        "- ¿Hay valores faltantes en el dataframe?\n",
        "\n",
        "\n",
        "\n"
      ]
    },
    {
      "cell_type": "code",
      "execution_count": null,
      "metadata": {},
      "outputs": [],
      "source": [
        "# Cargar el archivo cleaned_weather.csv en un DataFrame llamado weather_df\n",
        "weather_df = pd.read_csv(\"cleaned_weather.csv\")\n",
        "\n",
        "# Determinar la dimensionalidad del DataFrame\n",
        "print(f\"Dimensionalidad del DataFrame, Filas: {weather_df.shape[0]} Columnas: {weather_df.shape[1]}\")\n",
        "\n",
        "# Mostrar los nombres de las columnas de forma legible\n",
        "print(\"Identificadores de columnas:\")\n",
        "for col in weather_df.columns:\n",
        "    print(f\" - {col}\")\n",
        "\n",
        "# Renombrar las columnas para facilitar la interpretación\n",
        "weather_df.columns = [\n",
        "    'medicion',                # timestamp\n",
        "    'presion_atmosferica',     # p\n",
        "    'temperatura_celsius',     # T\n",
        "    'temperatura_kelvin',      # Tpot\n",
        "    'humedad_relativa',        # rh\n",
        "    'presion_vapor',           # VPact\n",
        "    'humedad_especifica',      # sh\n",
        "    'concentracion_vapor',     # H2OC\n",
        "    'densidad_aire',           # rho\n",
        "    'velocidad_viento',        # wv\n",
        "    'direccion_viento',        # wd\n",
        "    'precipitacion_total',     # rain\n",
        "    'duracion_lluvia'          # raining\n",
        "]\n",
        "\n",
        "# Mostrar los primeros 5 registros\n",
        "print(\"Primeros 5 registros:\")\n",
        "print(weather_df.head())\n",
        "\n",
        "# Mostrar los últimos 5 registros\n",
        "print(\"Últimos 5 registros:\")\n",
        "print(weather_df.tail())\n",
        "\n",
        "# Verificar si hay valores faltantes en el DataFrame\n",
        "print(\"¿Hay valores faltantes en el DataFrame?\")\n",
        "print(weather_df.isnull().sum())\n"
      ]
    },
    {
      "cell_type": "code",
      "execution_count": 2,
      "metadata": {
        "id": "b967uY-p0MlX"
      },
      "outputs": [],
      "source": [
        "# Load DataFrame\n",
        "weather_df = pd.read_csv(\"cleaned_weather.csv\")"
      ]
    },
    {
      "cell_type": "code",
      "execution_count": 3,
      "metadata": {},
      "outputs": [
        {
          "name": "stdout",
          "output_type": "stream",
          "text": [
            "<class 'pandas.core.frame.DataFrame'>\n",
            "RangeIndex: 52696 entries, 0 to 52695\n",
            "Data columns (total 13 columns):\n",
            " #   Column     Non-Null Count  Dtype  \n",
            "---  ------     --------------  -----  \n",
            " 0   timestamp  52696 non-null  object \n",
            " 1   p          52696 non-null  float64\n",
            " 2   T          52696 non-null  float64\n",
            " 3   Tpot       52696 non-null  float64\n",
            " 4   rh         52696 non-null  float64\n",
            " 5   VPact      52696 non-null  float64\n",
            " 6   sh         52696 non-null  float64\n",
            " 7   H2OC       52696 non-null  float64\n",
            " 8   rho        52696 non-null  float64\n",
            " 9   wv         52696 non-null  float64\n",
            " 10  wd         52696 non-null  float64\n",
            " 11  rain       52696 non-null  float64\n",
            " 12  raining    52696 non-null  int64  \n",
            "dtypes: float64(11), int64(1), object(1)\n",
            "memory usage: 5.2+ MB\n"
          ]
        }
      ],
      "source": [
        "# Verify DataFrame shape\n",
        "weather_df.info()"
      ]
    },
    {
      "cell_type": "code",
      "execution_count": 4,
      "metadata": {},
      "outputs": [
        {
          "data": {
            "text/plain": [
              "Index(['timestamp', 'p', 'T', 'Tpot', 'rh', 'VPact', 'sh', 'H2OC', 'rho', 'wv',\n",
              "       'wd', 'rain', 'raining'],\n",
              "      dtype='object')"
            ]
          },
          "execution_count": 4,
          "metadata": {},
          "output_type": "execute_result"
        }
      ],
      "source": [
        "# Column names\n",
        "weather_df.columns"
      ]
    },
    {
      "cell_type": "code",
      "execution_count": 5,
      "metadata": {},
      "outputs": [],
      "source": [
        "# Renombrar las columnas para facilitar la interpretación\n",
        "weather_df.columns = [\n",
        "    'medicion',                # timestamp\n",
        "    'presion_atmosferica',     # p\n",
        "    'temperatura_celsius',     # T\n",
        "    'temperatura_kelvin',      # Tpot\n",
        "    'humedad_relativa',        # rh\n",
        "    'presion_vapor',           # VPact\n",
        "    'humedad_especifica',      # sh\n",
        "    'concentracion_vapor',     # H2OC\n",
        "    'densidad_aire',           # rho\n",
        "    'velocidad_viento',        # wv\n",
        "    'direccion_viento',        # wd\n",
        "    'precipitacion_total',     # rain\n",
        "    'duracion_lluvia'          # raining\n",
        "]\n",
        "\n"
      ]
    },
    {
      "cell_type": "markdown",
      "metadata": {},
      "source": [
        "**Mostrar los primeros y ultimos 5 registros**\n",
        "\n",
        "Esto permite darnos una idea general de los valores y columnas en el DataFrame."
      ]
    },
    {
      "cell_type": "code",
      "execution_count": 6,
      "metadata": {},
      "outputs": [
        {
          "data": {
            "text/html": [
              "<div>\n",
              "<style scoped>\n",
              "    .dataframe tbody tr th:only-of-type {\n",
              "        vertical-align: middle;\n",
              "    }\n",
              "\n",
              "    .dataframe tbody tr th {\n",
              "        vertical-align: top;\n",
              "    }\n",
              "\n",
              "    .dataframe thead th {\n",
              "        text-align: right;\n",
              "    }\n",
              "</style>\n",
              "<table border=\"1\" class=\"dataframe\">\n",
              "  <thead>\n",
              "    <tr style=\"text-align: right;\">\n",
              "      <th></th>\n",
              "      <th>medicion</th>\n",
              "      <th>presion_atmosferica</th>\n",
              "      <th>temperatura_celsius</th>\n",
              "      <th>temperatura_kelvin</th>\n",
              "      <th>humedad_relativa</th>\n",
              "      <th>presion_vapor</th>\n",
              "      <th>humedad_especifica</th>\n",
              "      <th>concentracion_vapor</th>\n",
              "      <th>densidad_aire</th>\n",
              "      <th>velocidad_viento</th>\n",
              "      <th>direccion_viento</th>\n",
              "      <th>precipitacion_total</th>\n",
              "      <th>duracion_lluvia</th>\n",
              "    </tr>\n",
              "  </thead>\n",
              "  <tbody>\n",
              "    <tr>\n",
              "      <th>0</th>\n",
              "      <td>01/01/20 0:10</td>\n",
              "      <td>1008.89</td>\n",
              "      <td>0.71</td>\n",
              "      <td>273.18</td>\n",
              "      <td>86.1</td>\n",
              "      <td>5.54</td>\n",
              "      <td>3.42</td>\n",
              "      <td>5.49</td>\n",
              "      <td>1280.62</td>\n",
              "      <td>1.02</td>\n",
              "      <td>224.3</td>\n",
              "      <td>0.0</td>\n",
              "      <td>0</td>\n",
              "    </tr>\n",
              "    <tr>\n",
              "      <th>1</th>\n",
              "      <td>01/01/20 0:20</td>\n",
              "      <td>1008.76</td>\n",
              "      <td>0.75</td>\n",
              "      <td>273.22</td>\n",
              "      <td>85.2</td>\n",
              "      <td>5.49</td>\n",
              "      <td>3.39</td>\n",
              "      <td>5.45</td>\n",
              "      <td>1280.33</td>\n",
              "      <td>0.43</td>\n",
              "      <td>206.8</td>\n",
              "      <td>0.0</td>\n",
              "      <td>0</td>\n",
              "    </tr>\n",
              "    <tr>\n",
              "      <th>2</th>\n",
              "      <td>01/01/20 0:30</td>\n",
              "      <td>1008.66</td>\n",
              "      <td>0.73</td>\n",
              "      <td>273.21</td>\n",
              "      <td>85.1</td>\n",
              "      <td>5.48</td>\n",
              "      <td>3.39</td>\n",
              "      <td>5.43</td>\n",
              "      <td>1280.29</td>\n",
              "      <td>0.61</td>\n",
              "      <td>197.1</td>\n",
              "      <td>0.0</td>\n",
              "      <td>0</td>\n",
              "    </tr>\n",
              "    <tr>\n",
              "      <th>3</th>\n",
              "      <td>01/01/20 0:40</td>\n",
              "      <td>1008.64</td>\n",
              "      <td>0.37</td>\n",
              "      <td>272.86</td>\n",
              "      <td>86.3</td>\n",
              "      <td>5.41</td>\n",
              "      <td>3.35</td>\n",
              "      <td>5.37</td>\n",
              "      <td>1281.97</td>\n",
              "      <td>1.11</td>\n",
              "      <td>206.4</td>\n",
              "      <td>0.0</td>\n",
              "      <td>0</td>\n",
              "    </tr>\n",
              "    <tr>\n",
              "      <th>4</th>\n",
              "      <td>01/01/20 0:50</td>\n",
              "      <td>1008.61</td>\n",
              "      <td>0.33</td>\n",
              "      <td>272.82</td>\n",
              "      <td>87.4</td>\n",
              "      <td>5.47</td>\n",
              "      <td>3.38</td>\n",
              "      <td>5.42</td>\n",
              "      <td>1282.08</td>\n",
              "      <td>0.49</td>\n",
              "      <td>209.6</td>\n",
              "      <td>0.0</td>\n",
              "      <td>0</td>\n",
              "    </tr>\n",
              "  </tbody>\n",
              "</table>\n",
              "</div>"
            ],
            "text/plain": [
              "        medicion  presion_atmosferica  temperatura_celsius  \\\n",
              "0  01/01/20 0:10              1008.89                 0.71   \n",
              "1  01/01/20 0:20              1008.76                 0.75   \n",
              "2  01/01/20 0:30              1008.66                 0.73   \n",
              "3  01/01/20 0:40              1008.64                 0.37   \n",
              "4  01/01/20 0:50              1008.61                 0.33   \n",
              "\n",
              "   temperatura_kelvin  humedad_relativa  presion_vapor  humedad_especifica  \\\n",
              "0              273.18              86.1           5.54                3.42   \n",
              "1              273.22              85.2           5.49                3.39   \n",
              "2              273.21              85.1           5.48                3.39   \n",
              "3              272.86              86.3           5.41                3.35   \n",
              "4              272.82              87.4           5.47                3.38   \n",
              "\n",
              "   concentracion_vapor  densidad_aire  velocidad_viento  direccion_viento  \\\n",
              "0                 5.49        1280.62              1.02             224.3   \n",
              "1                 5.45        1280.33              0.43             206.8   \n",
              "2                 5.43        1280.29              0.61             197.1   \n",
              "3                 5.37        1281.97              1.11             206.4   \n",
              "4                 5.42        1282.08              0.49             209.6   \n",
              "\n",
              "   precipitacion_total  duracion_lluvia  \n",
              "0                  0.0                0  \n",
              "1                  0.0                0  \n",
              "2                  0.0                0  \n",
              "3                  0.0                0  \n",
              "4                  0.0                0  "
            ]
          },
          "execution_count": 6,
          "metadata": {},
          "output_type": "execute_result"
        }
      ],
      "source": [
        "# Mostrar los primeros 5 registros\n",
        "weather_df.head()"
      ]
    },
    {
      "cell_type": "code",
      "execution_count": 7,
      "metadata": {},
      "outputs": [
        {
          "data": {
            "text/html": [
              "<div>\n",
              "<style scoped>\n",
              "    .dataframe tbody tr th:only-of-type {\n",
              "        vertical-align: middle;\n",
              "    }\n",
              "\n",
              "    .dataframe tbody tr th {\n",
              "        vertical-align: top;\n",
              "    }\n",
              "\n",
              "    .dataframe thead th {\n",
              "        text-align: right;\n",
              "    }\n",
              "</style>\n",
              "<table border=\"1\" class=\"dataframe\">\n",
              "  <thead>\n",
              "    <tr style=\"text-align: right;\">\n",
              "      <th></th>\n",
              "      <th>0</th>\n",
              "      <th>1</th>\n",
              "      <th>2</th>\n",
              "      <th>3</th>\n",
              "      <th>4</th>\n",
              "    </tr>\n",
              "  </thead>\n",
              "  <tbody>\n",
              "    <tr>\n",
              "      <th>medicion</th>\n",
              "      <td>01/01/20 0:10</td>\n",
              "      <td>01/01/20 0:20</td>\n",
              "      <td>01/01/20 0:30</td>\n",
              "      <td>01/01/20 0:40</td>\n",
              "      <td>01/01/20 0:50</td>\n",
              "    </tr>\n",
              "    <tr>\n",
              "      <th>presion_atmosferica</th>\n",
              "      <td>1008.89</td>\n",
              "      <td>1008.76</td>\n",
              "      <td>1008.66</td>\n",
              "      <td>1008.64</td>\n",
              "      <td>1008.61</td>\n",
              "    </tr>\n",
              "    <tr>\n",
              "      <th>temperatura_celsius</th>\n",
              "      <td>0.71</td>\n",
              "      <td>0.75</td>\n",
              "      <td>0.73</td>\n",
              "      <td>0.37</td>\n",
              "      <td>0.33</td>\n",
              "    </tr>\n",
              "    <tr>\n",
              "      <th>temperatura_kelvin</th>\n",
              "      <td>273.18</td>\n",
              "      <td>273.22</td>\n",
              "      <td>273.21</td>\n",
              "      <td>272.86</td>\n",
              "      <td>272.82</td>\n",
              "    </tr>\n",
              "    <tr>\n",
              "      <th>humedad_relativa</th>\n",
              "      <td>86.1</td>\n",
              "      <td>85.2</td>\n",
              "      <td>85.1</td>\n",
              "      <td>86.3</td>\n",
              "      <td>87.4</td>\n",
              "    </tr>\n",
              "    <tr>\n",
              "      <th>presion_vapor</th>\n",
              "      <td>5.54</td>\n",
              "      <td>5.49</td>\n",
              "      <td>5.48</td>\n",
              "      <td>5.41</td>\n",
              "      <td>5.47</td>\n",
              "    </tr>\n",
              "    <tr>\n",
              "      <th>humedad_especifica</th>\n",
              "      <td>3.42</td>\n",
              "      <td>3.39</td>\n",
              "      <td>3.39</td>\n",
              "      <td>3.35</td>\n",
              "      <td>3.38</td>\n",
              "    </tr>\n",
              "    <tr>\n",
              "      <th>concentracion_vapor</th>\n",
              "      <td>5.49</td>\n",
              "      <td>5.45</td>\n",
              "      <td>5.43</td>\n",
              "      <td>5.37</td>\n",
              "      <td>5.42</td>\n",
              "    </tr>\n",
              "    <tr>\n",
              "      <th>densidad_aire</th>\n",
              "      <td>1280.62</td>\n",
              "      <td>1280.33</td>\n",
              "      <td>1280.29</td>\n",
              "      <td>1281.97</td>\n",
              "      <td>1282.08</td>\n",
              "    </tr>\n",
              "    <tr>\n",
              "      <th>velocidad_viento</th>\n",
              "      <td>1.02</td>\n",
              "      <td>0.43</td>\n",
              "      <td>0.61</td>\n",
              "      <td>1.11</td>\n",
              "      <td>0.49</td>\n",
              "    </tr>\n",
              "    <tr>\n",
              "      <th>direccion_viento</th>\n",
              "      <td>224.3</td>\n",
              "      <td>206.8</td>\n",
              "      <td>197.1</td>\n",
              "      <td>206.4</td>\n",
              "      <td>209.6</td>\n",
              "    </tr>\n",
              "    <tr>\n",
              "      <th>precipitacion_total</th>\n",
              "      <td>0.0</td>\n",
              "      <td>0.0</td>\n",
              "      <td>0.0</td>\n",
              "      <td>0.0</td>\n",
              "      <td>0.0</td>\n",
              "    </tr>\n",
              "    <tr>\n",
              "      <th>duracion_lluvia</th>\n",
              "      <td>0</td>\n",
              "      <td>0</td>\n",
              "      <td>0</td>\n",
              "      <td>0</td>\n",
              "      <td>0</td>\n",
              "    </tr>\n",
              "  </tbody>\n",
              "</table>\n",
              "</div>"
            ],
            "text/plain": [
              "                                 0              1              2  \\\n",
              "medicion             01/01/20 0:10  01/01/20 0:20  01/01/20 0:30   \n",
              "presion_atmosferica        1008.89        1008.76        1008.66   \n",
              "temperatura_celsius           0.71           0.75           0.73   \n",
              "temperatura_kelvin          273.18         273.22         273.21   \n",
              "humedad_relativa              86.1           85.2           85.1   \n",
              "presion_vapor                 5.54           5.49           5.48   \n",
              "humedad_especifica            3.42           3.39           3.39   \n",
              "concentracion_vapor           5.49           5.45           5.43   \n",
              "densidad_aire              1280.62        1280.33        1280.29   \n",
              "velocidad_viento              1.02           0.43           0.61   \n",
              "direccion_viento             224.3          206.8          197.1   \n",
              "precipitacion_total            0.0            0.0            0.0   \n",
              "duracion_lluvia                  0              0              0   \n",
              "\n",
              "                                 3              4  \n",
              "medicion             01/01/20 0:40  01/01/20 0:50  \n",
              "presion_atmosferica        1008.64        1008.61  \n",
              "temperatura_celsius           0.37           0.33  \n",
              "temperatura_kelvin          272.86         272.82  \n",
              "humedad_relativa              86.3           87.4  \n",
              "presion_vapor                 5.41           5.47  \n",
              "humedad_especifica            3.35           3.38  \n",
              "concentracion_vapor           5.37           5.42  \n",
              "densidad_aire              1281.97        1282.08  \n",
              "velocidad_viento              1.11           0.49  \n",
              "direccion_viento             206.4          209.6  \n",
              "precipitacion_total            0.0            0.0  \n",
              "duracion_lluvia                  0              0  "
            ]
          },
          "execution_count": 7,
          "metadata": {},
          "output_type": "execute_result"
        }
      ],
      "source": [
        "# Mostrar los primeros 5 registros, pero transponiendo para poder observar todas las columnas del dataframe\n",
        "weather_df.head().T"
      ]
    },
    {
      "cell_type": "code",
      "execution_count": 8,
      "metadata": {},
      "outputs": [
        {
          "data": {
            "text/html": [
              "<div>\n",
              "<style scoped>\n",
              "    .dataframe tbody tr th:only-of-type {\n",
              "        vertical-align: middle;\n",
              "    }\n",
              "\n",
              "    .dataframe tbody tr th {\n",
              "        vertical-align: top;\n",
              "    }\n",
              "\n",
              "    .dataframe thead th {\n",
              "        text-align: right;\n",
              "    }\n",
              "</style>\n",
              "<table border=\"1\" class=\"dataframe\">\n",
              "  <thead>\n",
              "    <tr style=\"text-align: right;\">\n",
              "      <th></th>\n",
              "      <th>medicion</th>\n",
              "      <th>presion_atmosferica</th>\n",
              "      <th>temperatura_celsius</th>\n",
              "      <th>temperatura_kelvin</th>\n",
              "      <th>humedad_relativa</th>\n",
              "      <th>presion_vapor</th>\n",
              "      <th>humedad_especifica</th>\n",
              "      <th>concentracion_vapor</th>\n",
              "      <th>densidad_aire</th>\n",
              "      <th>velocidad_viento</th>\n",
              "      <th>direccion_viento</th>\n",
              "      <th>precipitacion_total</th>\n",
              "      <th>duracion_lluvia</th>\n",
              "    </tr>\n",
              "  </thead>\n",
              "  <tbody>\n",
              "    <tr>\n",
              "      <th>52691</th>\n",
              "      <td>31/12/20 23:20</td>\n",
              "      <td>978.32</td>\n",
              "      <td>2.28</td>\n",
              "      <td>277.16</td>\n",
              "      <td>80.0</td>\n",
              "      <td>5.76</td>\n",
              "      <td>3.67</td>\n",
              "      <td>5.89</td>\n",
              "      <td>1234.61</td>\n",
              "      <td>0.73</td>\n",
              "      <td>180.6</td>\n",
              "      <td>0.0</td>\n",
              "      <td>0</td>\n",
              "    </tr>\n",
              "    <tr>\n",
              "      <th>52692</th>\n",
              "      <td>31/12/20 23:30</td>\n",
              "      <td>978.30</td>\n",
              "      <td>2.13</td>\n",
              "      <td>277.01</td>\n",
              "      <td>83.1</td>\n",
              "      <td>5.92</td>\n",
              "      <td>3.77</td>\n",
              "      <td>6.05</td>\n",
              "      <td>1235.20</td>\n",
              "      <td>0.43</td>\n",
              "      <td>174.0</td>\n",
              "      <td>0.0</td>\n",
              "      <td>0</td>\n",
              "    </tr>\n",
              "    <tr>\n",
              "      <th>52693</th>\n",
              "      <td>31/12/20 23:40</td>\n",
              "      <td>978.26</td>\n",
              "      <td>1.99</td>\n",
              "      <td>276.88</td>\n",
              "      <td>82.2</td>\n",
              "      <td>5.80</td>\n",
              "      <td>3.69</td>\n",
              "      <td>5.93</td>\n",
              "      <td>1235.82</td>\n",
              "      <td>0.38</td>\n",
              "      <td>248.9</td>\n",
              "      <td>0.0</td>\n",
              "      <td>0</td>\n",
              "    </tr>\n",
              "    <tr>\n",
              "      <th>52694</th>\n",
              "      <td>31/12/20 23:50</td>\n",
              "      <td>978.26</td>\n",
              "      <td>2.07</td>\n",
              "      <td>276.95</td>\n",
              "      <td>81.4</td>\n",
              "      <td>5.77</td>\n",
              "      <td>3.68</td>\n",
              "      <td>5.90</td>\n",
              "      <td>1235.49</td>\n",
              "      <td>0.57</td>\n",
              "      <td>196.6</td>\n",
              "      <td>0.0</td>\n",
              "      <td>0</td>\n",
              "    </tr>\n",
              "    <tr>\n",
              "      <th>52695</th>\n",
              "      <td>01/01/21 0:00</td>\n",
              "      <td>978.24</td>\n",
              "      <td>2.01</td>\n",
              "      <td>276.89</td>\n",
              "      <td>82.4</td>\n",
              "      <td>5.82</td>\n",
              "      <td>3.71</td>\n",
              "      <td>5.95</td>\n",
              "      <td>1235.71</td>\n",
              "      <td>0.57</td>\n",
              "      <td>221.3</td>\n",
              "      <td>0.0</td>\n",
              "      <td>0</td>\n",
              "    </tr>\n",
              "  </tbody>\n",
              "</table>\n",
              "</div>"
            ],
            "text/plain": [
              "             medicion  presion_atmosferica  temperatura_celsius  \\\n",
              "52691  31/12/20 23:20               978.32                 2.28   \n",
              "52692  31/12/20 23:30               978.30                 2.13   \n",
              "52693  31/12/20 23:40               978.26                 1.99   \n",
              "52694  31/12/20 23:50               978.26                 2.07   \n",
              "52695   01/01/21 0:00               978.24                 2.01   \n",
              "\n",
              "       temperatura_kelvin  humedad_relativa  presion_vapor  \\\n",
              "52691              277.16              80.0           5.76   \n",
              "52692              277.01              83.1           5.92   \n",
              "52693              276.88              82.2           5.80   \n",
              "52694              276.95              81.4           5.77   \n",
              "52695              276.89              82.4           5.82   \n",
              "\n",
              "       humedad_especifica  concentracion_vapor  densidad_aire  \\\n",
              "52691                3.67                 5.89        1234.61   \n",
              "52692                3.77                 6.05        1235.20   \n",
              "52693                3.69                 5.93        1235.82   \n",
              "52694                3.68                 5.90        1235.49   \n",
              "52695                3.71                 5.95        1235.71   \n",
              "\n",
              "       velocidad_viento  direccion_viento  precipitacion_total  \\\n",
              "52691              0.73             180.6                  0.0   \n",
              "52692              0.43             174.0                  0.0   \n",
              "52693              0.38             248.9                  0.0   \n",
              "52694              0.57             196.6                  0.0   \n",
              "52695              0.57             221.3                  0.0   \n",
              "\n",
              "       duracion_lluvia  \n",
              "52691                0  \n",
              "52692                0  \n",
              "52693                0  \n",
              "52694                0  \n",
              "52695                0  "
            ]
          },
          "execution_count": 8,
          "metadata": {},
          "output_type": "execute_result"
        }
      ],
      "source": [
        "# Mostrar los últimos 5 registros\n",
        "weather_df.tail()"
      ]
    },
    {
      "cell_type": "code",
      "execution_count": 9,
      "metadata": {},
      "outputs": [
        {
          "data": {
            "text/html": [
              "<div>\n",
              "<style scoped>\n",
              "    .dataframe tbody tr th:only-of-type {\n",
              "        vertical-align: middle;\n",
              "    }\n",
              "\n",
              "    .dataframe tbody tr th {\n",
              "        vertical-align: top;\n",
              "    }\n",
              "\n",
              "    .dataframe thead th {\n",
              "        text-align: right;\n",
              "    }\n",
              "</style>\n",
              "<table border=\"1\" class=\"dataframe\">\n",
              "  <thead>\n",
              "    <tr style=\"text-align: right;\">\n",
              "      <th></th>\n",
              "      <th>52691</th>\n",
              "      <th>52692</th>\n",
              "      <th>52693</th>\n",
              "      <th>52694</th>\n",
              "      <th>52695</th>\n",
              "    </tr>\n",
              "  </thead>\n",
              "  <tbody>\n",
              "    <tr>\n",
              "      <th>medicion</th>\n",
              "      <td>31/12/20 23:20</td>\n",
              "      <td>31/12/20 23:30</td>\n",
              "      <td>31/12/20 23:40</td>\n",
              "      <td>31/12/20 23:50</td>\n",
              "      <td>01/01/21 0:00</td>\n",
              "    </tr>\n",
              "    <tr>\n",
              "      <th>presion_atmosferica</th>\n",
              "      <td>978.32</td>\n",
              "      <td>978.3</td>\n",
              "      <td>978.26</td>\n",
              "      <td>978.26</td>\n",
              "      <td>978.24</td>\n",
              "    </tr>\n",
              "    <tr>\n",
              "      <th>temperatura_celsius</th>\n",
              "      <td>2.28</td>\n",
              "      <td>2.13</td>\n",
              "      <td>1.99</td>\n",
              "      <td>2.07</td>\n",
              "      <td>2.01</td>\n",
              "    </tr>\n",
              "    <tr>\n",
              "      <th>temperatura_kelvin</th>\n",
              "      <td>277.16</td>\n",
              "      <td>277.01</td>\n",
              "      <td>276.88</td>\n",
              "      <td>276.95</td>\n",
              "      <td>276.89</td>\n",
              "    </tr>\n",
              "    <tr>\n",
              "      <th>humedad_relativa</th>\n",
              "      <td>80.0</td>\n",
              "      <td>83.1</td>\n",
              "      <td>82.2</td>\n",
              "      <td>81.4</td>\n",
              "      <td>82.4</td>\n",
              "    </tr>\n",
              "    <tr>\n",
              "      <th>presion_vapor</th>\n",
              "      <td>5.76</td>\n",
              "      <td>5.92</td>\n",
              "      <td>5.8</td>\n",
              "      <td>5.77</td>\n",
              "      <td>5.82</td>\n",
              "    </tr>\n",
              "    <tr>\n",
              "      <th>humedad_especifica</th>\n",
              "      <td>3.67</td>\n",
              "      <td>3.77</td>\n",
              "      <td>3.69</td>\n",
              "      <td>3.68</td>\n",
              "      <td>3.71</td>\n",
              "    </tr>\n",
              "    <tr>\n",
              "      <th>concentracion_vapor</th>\n",
              "      <td>5.89</td>\n",
              "      <td>6.05</td>\n",
              "      <td>5.93</td>\n",
              "      <td>5.9</td>\n",
              "      <td>5.95</td>\n",
              "    </tr>\n",
              "    <tr>\n",
              "      <th>densidad_aire</th>\n",
              "      <td>1234.61</td>\n",
              "      <td>1235.2</td>\n",
              "      <td>1235.82</td>\n",
              "      <td>1235.49</td>\n",
              "      <td>1235.71</td>\n",
              "    </tr>\n",
              "    <tr>\n",
              "      <th>velocidad_viento</th>\n",
              "      <td>0.73</td>\n",
              "      <td>0.43</td>\n",
              "      <td>0.38</td>\n",
              "      <td>0.57</td>\n",
              "      <td>0.57</td>\n",
              "    </tr>\n",
              "    <tr>\n",
              "      <th>direccion_viento</th>\n",
              "      <td>180.6</td>\n",
              "      <td>174.0</td>\n",
              "      <td>248.9</td>\n",
              "      <td>196.6</td>\n",
              "      <td>221.3</td>\n",
              "    </tr>\n",
              "    <tr>\n",
              "      <th>precipitacion_total</th>\n",
              "      <td>0.0</td>\n",
              "      <td>0.0</td>\n",
              "      <td>0.0</td>\n",
              "      <td>0.0</td>\n",
              "      <td>0.0</td>\n",
              "    </tr>\n",
              "    <tr>\n",
              "      <th>duracion_lluvia</th>\n",
              "      <td>0</td>\n",
              "      <td>0</td>\n",
              "      <td>0</td>\n",
              "      <td>0</td>\n",
              "      <td>0</td>\n",
              "    </tr>\n",
              "  </tbody>\n",
              "</table>\n",
              "</div>"
            ],
            "text/plain": [
              "                              52691           52692           52693  \\\n",
              "medicion             31/12/20 23:20  31/12/20 23:30  31/12/20 23:40   \n",
              "presion_atmosferica          978.32           978.3          978.26   \n",
              "temperatura_celsius            2.28            2.13            1.99   \n",
              "temperatura_kelvin           277.16          277.01          276.88   \n",
              "humedad_relativa               80.0            83.1            82.2   \n",
              "presion_vapor                  5.76            5.92             5.8   \n",
              "humedad_especifica             3.67            3.77            3.69   \n",
              "concentracion_vapor            5.89            6.05            5.93   \n",
              "densidad_aire               1234.61          1235.2         1235.82   \n",
              "velocidad_viento               0.73            0.43            0.38   \n",
              "direccion_viento              180.6           174.0           248.9   \n",
              "precipitacion_total             0.0             0.0             0.0   \n",
              "duracion_lluvia                   0               0               0   \n",
              "\n",
              "                              52694          52695  \n",
              "medicion             31/12/20 23:50  01/01/21 0:00  \n",
              "presion_atmosferica          978.26         978.24  \n",
              "temperatura_celsius            2.07           2.01  \n",
              "temperatura_kelvin           276.95         276.89  \n",
              "humedad_relativa               81.4           82.4  \n",
              "presion_vapor                  5.77           5.82  \n",
              "humedad_especifica             3.68           3.71  \n",
              "concentracion_vapor             5.9           5.95  \n",
              "densidad_aire               1235.49        1235.71  \n",
              "velocidad_viento               0.57           0.57  \n",
              "direccion_viento              196.6          221.3  \n",
              "precipitacion_total             0.0            0.0  \n",
              "duracion_lluvia                   0              0  "
            ]
          },
          "execution_count": 9,
          "metadata": {},
          "output_type": "execute_result"
        }
      ],
      "source": [
        "# Mostrar los ultimos 5 registros, pero transponiendo para poder observar todas las columnas del dataframe\n",
        "weather_df.tail().T"
      ]
    },
    {
      "cell_type": "markdown",
      "metadata": {},
      "source": [
        "**Valores Faltantes por columna**\n",
        "\n",
        "Utilizando el método de Pandas isnull() combinado con el método de suma sum() podemos buscar cualquier valor faltante e identificar la columna en donde se encuentra."
      ]
    },
    {
      "cell_type": "code",
      "execution_count": 10,
      "metadata": {},
      "outputs": [
        {
          "name": "stdout",
          "output_type": "stream",
          "text": [
            "Valores Faltantes por columna\n",
            "------------------------------\n",
            "medicion               0\n",
            "presion_atmosferica    0\n",
            "temperatura_celsius    0\n",
            "temperatura_kelvin     0\n",
            "humedad_relativa       0\n",
            "presion_vapor          0\n",
            "humedad_especifica     0\n",
            "concentracion_vapor    0\n",
            "densidad_aire          0\n",
            "velocidad_viento       0\n",
            "direccion_viento       0\n",
            "precipitacion_total    0\n",
            "duracion_lluvia        0\n",
            "dtype: int64\n"
          ]
        }
      ],
      "source": [
        "# Verificar si hay valores faltantes en el dataframe por columna\n",
        "print(\"Valores Faltantes por columna\")\n",
        "print(\"-\" * 30)\n",
        "print(weather_df.isnull().sum()) "
      ]
    },
    {
      "cell_type": "markdown",
      "metadata": {
        "id": "bZIqDTuzDjJH"
      },
      "source": [
        "2. Determina el tipo de datos que tienen las columnas.\n",
        "- Cambia la columna `medicion` a datetime.\n",
        "- Obtén dos columnas adicionales separando `medicion` en `fecha` y `hora`."
      ]
    },
    {
      "cell_type": "code",
      "execution_count": 11,
      "metadata": {},
      "outputs": [
        {
          "name": "stdout",
          "output_type": "stream",
          "text": [
            "Tipos de datos antes de conversión:\n",
            "medicion                object\n",
            "presion_atmosferica    float64\n",
            "temperatura_celsius    float64\n",
            "temperatura_kelvin     float64\n",
            "humedad_relativa       float64\n",
            "presion_vapor          float64\n",
            "humedad_especifica     float64\n",
            "concentracion_vapor    float64\n",
            "densidad_aire          float64\n",
            "velocidad_viento       float64\n",
            "direccion_viento       float64\n",
            "precipitacion_total    float64\n",
            "duracion_lluvia          int64\n",
            "dtype: object\n"
          ]
        }
      ],
      "source": [
        "# Revisar tipos de datos actuales\n",
        "print(\"Tipos de datos antes de conversión:\")\n",
        "print(weather_df.dtypes)"
      ]
    },
    {
      "cell_type": "code",
      "execution_count": null,
      "metadata": {},
      "outputs": [],
      "source": [
        "# No, the .to_datetime() method is a pandas function, not a DataFrame/Series method, and does not have an inplace argument.\n",
        "# The correct way is:\n",
        "weather_df['medicion'] = pd.to_datetime(weather_df['medicion'], format='%d/%m/%y %H:%M')"
      ]
    },
    {
      "cell_type": "code",
      "execution_count": 12,
      "metadata": {},
      "outputs": [
        {
          "name": "stdout",
          "output_type": "stream",
          "text": [
            "Tipo de dato previo a la conversion: object\n",
            "Tipo de dato posterior a la conversion: datetime64[ns]\n"
          ]
        }
      ],
      "source": [
        "# Convertir la columna 'medicion' a tipo datetime\n",
        "print(f\"Tipo de dato previo a la conversion: {weather_df.medicion.dtypes}\")\n",
        "weather_df['medicion'] = pd.to_datetime(weather_df['medicion'], format='%d/%m/%y %H:%M')\n",
        "print(f\"Tipo de dato posterior a la conversion: {weather_df.medicion.dtypes}\")"
      ]
    },
    {
      "cell_type": "code",
      "execution_count": 13,
      "metadata": {},
      "outputs": [],
      "source": [
        "# Crear columnas adicionales 'fecha' y 'hora' a partir de 'medicion'\n",
        "weather_df['fecha'] = weather_df['medicion'].dt.date\n",
        "weather_df['hora'] = weather_df['medicion'].dt.time"
      ]
    },
    {
      "cell_type": "code",
      "execution_count": 19,
      "metadata": {
        "id": "QcIJCln80OWt"
      },
      "outputs": [
        {
          "name": "stdout",
          "output_type": "stream",
          "text": [
            "Tipos de datos después de conversión:\n",
            "----------------------------------------\n",
            "medicion               datetime64[ns]\n",
            "presion_atmosferica           float64\n",
            "temperatura_celsius           float64\n",
            "temperatura_kelvin            float64\n",
            "humedad_relativa              float64\n",
            "presion_vapor                 float64\n",
            "humedad_especifica            float64\n",
            "concentracion_vapor           float64\n",
            "densidad_aire                 float64\n",
            "velocidad_viento              float64\n",
            "direccion_viento              float64\n",
            "precipitacion_total           float64\n",
            "duracion_lluvia                 int64\n",
            "fecha                          object\n",
            "hora                           object\n",
            "dtype: object\n"
          ]
        }
      ],
      "source": [
        "# Verificar los cambios\n",
        "print(\"Tipos de datos después de conversión:\")\n",
        "print(\"-\" * 40)\n",
        "print(weather_df.dtypes)\n"
      ]
    },
    {
      "cell_type": "code",
      "execution_count": 18,
      "metadata": {},
      "outputs": [
        {
          "data": {
            "text/html": [
              "<div>\n",
              "<style scoped>\n",
              "    .dataframe tbody tr th:only-of-type {\n",
              "        vertical-align: middle;\n",
              "    }\n",
              "\n",
              "    .dataframe tbody tr th {\n",
              "        vertical-align: top;\n",
              "    }\n",
              "\n",
              "    .dataframe thead th {\n",
              "        text-align: right;\n",
              "    }\n",
              "</style>\n",
              "<table border=\"1\" class=\"dataframe\">\n",
              "  <thead>\n",
              "    <tr style=\"text-align: right;\">\n",
              "      <th></th>\n",
              "      <th>medicion</th>\n",
              "      <th>fecha</th>\n",
              "      <th>hora</th>\n",
              "    </tr>\n",
              "  </thead>\n",
              "  <tbody>\n",
              "    <tr>\n",
              "      <th>0</th>\n",
              "      <td>2020-01-01 00:10:00</td>\n",
              "      <td>2020-01-01</td>\n",
              "      <td>00:10:00</td>\n",
              "    </tr>\n",
              "    <tr>\n",
              "      <th>1</th>\n",
              "      <td>2020-01-01 00:20:00</td>\n",
              "      <td>2020-01-01</td>\n",
              "      <td>00:20:00</td>\n",
              "    </tr>\n",
              "    <tr>\n",
              "      <th>2</th>\n",
              "      <td>2020-01-01 00:30:00</td>\n",
              "      <td>2020-01-01</td>\n",
              "      <td>00:30:00</td>\n",
              "    </tr>\n",
              "    <tr>\n",
              "      <th>3</th>\n",
              "      <td>2020-01-01 00:40:00</td>\n",
              "      <td>2020-01-01</td>\n",
              "      <td>00:40:00</td>\n",
              "    </tr>\n",
              "    <tr>\n",
              "      <th>4</th>\n",
              "      <td>2020-01-01 00:50:00</td>\n",
              "      <td>2020-01-01</td>\n",
              "      <td>00:50:00</td>\n",
              "    </tr>\n",
              "  </tbody>\n",
              "</table>\n",
              "</div>"
            ],
            "text/plain": [
              "             medicion       fecha      hora\n",
              "0 2020-01-01 00:10:00  2020-01-01  00:10:00\n",
              "1 2020-01-01 00:20:00  2020-01-01  00:20:00\n",
              "2 2020-01-01 00:30:00  2020-01-01  00:30:00\n",
              "3 2020-01-01 00:40:00  2020-01-01  00:40:00\n",
              "4 2020-01-01 00:50:00  2020-01-01  00:50:00"
            ]
          },
          "execution_count": 18,
          "metadata": {},
          "output_type": "execute_result"
        }
      ],
      "source": [
        "# Primeras filas con los cambios realizados y nuevas columnas\n",
        "weather_df[['medicion', 'fecha', 'hora']].head()"
      ]
    },
    {
      "cell_type": "markdown",
      "metadata": {
        "id": "FGeZWTF6LM5w"
      },
      "source": [
        "3. Determina la cantidad de valores únicos de cada columna.\n",
        "- La columna `medicion` tiene un valor menos que el número total de filas del dataframe, lo que indica que hay una fecha duplicada. Identifica cuál es.\n",
        "- Comprueba si las demás columnas también contienen los mismos valores; si es así, elimina  uno de los registros duplicados.\n"
      ]
    },
    {
      "cell_type": "code",
      "execution_count": null,
      "metadata": {},
      "outputs": [],
      "source": [
        "weather_df = weather_df.drop_duplicates(subset=['medicion'], keep='first')\n",
        "\n"
      ]
    },
    {
      "cell_type": "code",
      "execution_count": null,
      "metadata": {},
      "outputs": [],
      "source": [
        "\n",
        "# 3. Determina la cantidad de valores únicos de cada columna\n",
        "print(\"Valores únicos por columna:\")\n",
        "print(weather_df.nunique())\n",
        "\n",
        "# Identifica la fecha duplicada en 'medicion'\n",
        "duplicado = weather_df['medicion'][weather_df['medicion'].duplicated()].iloc[0]\n",
        "print(f\"\\nFecha duplicada en 'medicion': {duplicado}\")\n",
        "\n",
        "# Elimina el duplicado (sin checar si los valores son iguales)\n",
        "weather_df = weather_df.drop_duplicates(subset=weather_df.columns.tolist(), keep='first')\n",
        "print(\"Duplicado eliminado.\")\n",
        "\n",
        "\n",
        "\n",
        "\n",
        "\n",
        "\n"
      ]
    },
    {
      "cell_type": "code",
      "execution_count": null,
      "metadata": {},
      "outputs": [
        {
          "name": "stdout",
          "output_type": "stream",
          "text": [
            "Cantidad de valores únicos por columna:\n",
            "medicion               52695\n",
            "presion_atmosferica     5052\n",
            "temperatura_celsius     3680\n",
            "temperatura_kelvin      3836\n",
            "humedad_relativa        5494\n",
            "presion_vapor           2059\n",
            "humedad_especifica      1337\n",
            "concentracion_vapor     2087\n",
            "densidad_aire          14826\n",
            "velocidad_viento         977\n",
            "direccion_viento        8099\n",
            "precipitacion_total       42\n",
            "duracion_lluvia           61\n",
            "fecha                    367\n",
            "hora                     144\n",
            "dtype: int64\n"
          ]
        }
      ],
      "source": [
        "# Mostrar la cantidad de valores únicos por columna y comparar cada columna con la cantidad total de filas\n",
        "print(\"Cantidad de valores únicos por columna:\")\n",
        "unicos = weather_df.nunique()\n",
        "total_filas = len(weather_df)\n",
        "for col, n_unicos in unicos.items():\n",
        "    print(f\"{col}: {total_filas - n_unicos} valores no únicos (total filas: {total_filas})\")"
      ]
    },
    {
      "cell_type": "code",
      "execution_count": 21,
      "metadata": {},
      "outputs": [
        {
          "data": {
            "text/plain": [
              "19043   2020-05-12 06:00:00\n",
              "19044   2020-05-12 06:00:00\n",
              "Name: medicion, dtype: datetime64[ns]"
            ]
          },
          "execution_count": 21,
          "metadata": {},
          "output_type": "execute_result"
        }
      ],
      "source": [
        "# Identificar el valor duplicado en 'medicion'\n",
        "duplicados = weather_df['medicion'][weather_df['medicion'].duplicated(keep=False)]\n",
        "duplicados"
      ]
    },
    {
      "cell_type": "code",
      "execution_count": 22,
      "metadata": {},
      "outputs": [
        {
          "name": "stdout",
          "output_type": "stream",
          "text": [
            "\n",
            "Fechas/hora duplicadas en 'medicion':\n",
            "19043   2020-05-12 06:00:00\n",
            "19044   2020-05-12 06:00:00\n",
            "Name: medicion, dtype: datetime64[ns]\n",
            "\n",
            "¿Todos los valores de las otras columnas son idénticos para los duplicados?\n",
            "medicion\n",
            "2020-05-12 06:00:00    True\n",
            "dtype: bool\n",
            "\n",
            "Duplicado eliminado (todas las columnas iguales).\n"
          ]
        },
        {
          "name": "stderr",
          "output_type": "stream",
          "text": [
            "C:\\Users\\632464\\AppData\\Local\\Temp\\ipykernel_28656\\890586825.py:8: FutureWarning: DataFrameGroupBy.apply operated on the grouping columns. This behavior is deprecated, and in a future version of pandas the grouping columns will be excluded from the operation. Either pass `include_groups=False` to exclude the groupings or explicitly select the grouping columns after groupby to silence this warning.\n",
            "  iguales = duplicados_df.groupby('medicion').apply(lambda x: x.drop('medicion', axis=1).nunique().max() == 1)\n"
          ]
        }
      ],
      "source": [
        "if not duplicados.empty:\n",
        "    print(\"\\nFechas/hora duplicadas en 'medicion':\")\n",
        "    print(duplicados)\n",
        "\n",
        "    # Verificar si las demás columnas también son idénticas para esos duplicados\n",
        "    duplicados_df = weather_df[weather_df['medicion'].isin(duplicados)]\n",
        "    # Agrupar por 'medicion' y contar los duplicados exactos\n",
        "    iguales = duplicados_df.groupby('medicion').apply(lambda x: x.drop('medicion', axis=1).nunique().max() == 1)\n",
        "    print(\"\\n¿Todos los valores de las otras columnas son idénticos para los duplicados?\")\n",
        "    print(iguales)\n",
        "\n",
        "    # Si todos los valores son idénticos, eliminar duplicados conservando solo uno\n",
        "    if iguales.all():\n",
        "        weather_df = weather_df.drop_duplicates(subset=weather_df.columns.tolist(), keep='first')\n",
        "        print(\"\\nDuplicado eliminado (todas las columnas iguales).\")\n",
        "    else:\n",
        "        print(\"\\nDuplicados encontrados pero con diferencias en otras columnas. No se eliminan automáticamente.\")\n",
        "else:\n",
        "    print(\"\\nNo se encontraron duplicados en 'medicion'.\")"
      ]
    },
    {
      "cell_type": "markdown",
      "metadata": {
        "id": "T63TwtFUOuhC"
      },
      "source": [
        "4. Imprime nuevamente las cantidad de valores únicos por columna.\n",
        "- ¿Por qué son 144 horas diferentes?\n",
        "- La cantidad de combinaciones únicas de fecha y hora no coincide con el número total de mediciones. Aunque no haya valores NaN, esto no garantiza que no se hayan omitido registros. Identifica las fechas en las que faltan mediciones.\n",
        "- Una vez concluido el análisis de mediciones faltantes, elimina todos los registros que no correspondan al año 2020 y la columna `medicion`.\n"
      ]
    },
    {
      "cell_type": "code",
      "execution_count": null,
      "metadata": {},
      "outputs": [],
      "source": [
        "\n"
      ]
    },
    {
      "cell_type": "code",
      "execution_count": null,
      "metadata": {},
      "outputs": [],
      "source": [
        "weather_df = weather_df[weather_df['medicion'].dt.year == 2020].drop(columns=['medicion'])\n",
        "print(weather_df.head())\n",
        "# Verificar que solo hay registros de 2020\n",
        "print(\"Años únicos en el dataframe:\", set(weather_df.index.year) if hasattr(weather_df.index, 'year') else \"No hay columna de fechas en el índice\")\n",
        "\n",
        "\n",
        "\n"
      ]
    },
    {
      "cell_type": "markdown",
      "metadata": {
        "id": "bO50wKFKXjz9"
      },
      "source": [
        "5. Obtén un dataframe `indicadores_diarios` que sólo almacene el mayor valor de las mediciones por fecha para responder:\n",
        "- ¿Cuál fue la máxima precipitación y a qué fecha pertenece?\n",
        "- ¿Cuáles fueron los tres días con las velocidades de viento más altas registradas?\n",
        "- ¿Cuántos días rebasaron el 90% de humedad relativa y los 30° celsius?"
      ]
    },
    {
      "cell_type": "code",
      "execution_count": null,
      "metadata": {
        "id": "3HZRLD8_0UQx"
      },
      "outputs": [],
      "source": [
        "\n",
        "\n",
        "\n",
        "\n",
        "\n",
        "\n",
        "\n"
      ]
    },
    {
      "cell_type": "markdown",
      "metadata": {
        "id": "4qdgDVAHvGgK"
      },
      "source": [
        "6. La función `describe()` resume múltiples estadísticas descriptivas. Utiliza esta función para explorar y responder las preguntas sobre las variables en el dataframe de `indicadores_diarios `:\n",
        "- ¿Cuál es la desviación estándar de la concentración de vapor y qué indica?\n",
        "- ¿Cuál es la mediana de la presión atmosférica y qué significa?\n",
        "- ¿Cuál es el tercer cuartil de la duración de la lluvia y cómo se interpreta?"
      ]
    },
    {
      "cell_type": "code",
      "execution_count": null,
      "metadata": {
        "id": "gOSuvVD50WX6"
      },
      "outputs": [],
      "source": []
    },
    {
      "cell_type": "markdown",
      "metadata": {
        "id": "Rki16hYaFd9p"
      },
      "source": [
        "7.\tDibuja un histograma para cada una de las columnas de `indicadores_diarios`."
      ]
    },
    {
      "cell_type": "code",
      "execution_count": null,
      "metadata": {
        "id": "X-nU11fE0ZYX"
      },
      "outputs": [],
      "source": []
    },
    {
      "cell_type": "markdown",
      "metadata": {
        "id": "McMGuLYPpbR3"
      },
      "source": [
        "8. Utiliza el dataframe de indicadores diarios para crear un nuevo dataframe `indicadores_mensuales`. Para ello:\n",
        "- Crea una nueva columna `mes` a partir de la fecha que se encuentra en el índice.\n",
        "- Haciendo uso de `groupby()`, calcula los promedios mensuales y conserva únicamente las columnas `humedad_relativa`, `temperatura_celsius` y `velocidad_viento` en el nuevo dataframe."
      ]
    },
    {
      "cell_type": "code",
      "execution_count": null,
      "metadata": {
        "id": "ESe0rIWi0a0R"
      },
      "outputs": [],
      "source": []
    },
    {
      "cell_type": "markdown",
      "metadata": {
        "id": "Uziu5arvt2RS"
      },
      "source": [
        "9. Construye el mismo dataframe mensual, pero esta vez utilizando la función `pivot_table()`.\n",
        "- Añade la columna `indice_calor` usando la fórmula de Thom (*Temperature - Humidity Index*, TDI):\n",
        "> `temperatura_celsius + 0.33 x humedad_relativa - 0.7 x velocidad_viento - 4`"
      ]
    },
    {
      "cell_type": "code",
      "execution_count": null,
      "metadata": {
        "id": "WrpNBdKw0cwx"
      },
      "outputs": [],
      "source": []
    },
    {
      "cell_type": "markdown",
      "metadata": {
        "id": "jiG8DEytvWzP"
      },
      "source": [
        "10. Recuerda que de las cuatro funciones estudiadas para manipular la estructura del dataframe:\n",
        "- `melt/pivot` hacen las transformaciones de manera controlada, es decir puedes\n",
        "definir por medio de sus parámetros qué variables quedarán como índices, columnas y valores.\n",
        "- `stack/unstack` la conversión se aplica siempre sobre los niveles inferiores de index/columns.\n",
        "- Convierte el dataframe del ejercicio anterior a formato largo usando: `melt()` y `stack()` y comenta las diferencias."
      ]
    },
    {
      "cell_type": "code",
      "execution_count": null,
      "metadata": {
        "id": "2vhLUp2g0d8k"
      },
      "outputs": [],
      "source": []
    }
  ],
  "metadata": {
    "colab": {
      "provenance": []
    },
    "kernelspec": {
      "display_name": "Python 3",
      "name": "python3"
    },
    "language_info": {
      "codemirror_mode": {
        "name": "ipython",
        "version": 3
      },
      "file_extension": ".py",
      "mimetype": "text/x-python",
      "name": "python",
      "nbconvert_exporter": "python",
      "pygments_lexer": "ipython3",
      "version": "3.13.5"
    }
  },
  "nbformat": 4,
  "nbformat_minor": 0
}
